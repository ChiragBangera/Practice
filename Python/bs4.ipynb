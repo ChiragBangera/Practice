{
 "cells": [
  {
   "cell_type": "code",
   "execution_count": 78,
   "id": "a9696fc1",
   "metadata": {},
   "outputs": [],
   "source": [
    "from bs4 import BeautifulSoup\n",
    "import pandas as pd\n",
    "import requests"
   ]
  },
  {
   "cell_type": "code",
   "execution_count": 16,
   "id": "49913798",
   "metadata": {},
   "outputs": [],
   "source": [
    "url = (\"https://www.amazon.in/Rage-Coffee-Butterscotch-Delight-Flavour/dp/B08Q46TB9S/ref=sr_1_4?crid=10F0UTWL7KI4S&keywords=rage+coffee&qid=1654504910&s=grocery&sprefix=rage+co%2Cgrocery%2C343&sr=1-4\")"
   ]
  },
  {
   "cell_type": "code",
   "execution_count": 81,
   "id": "03de138c",
   "metadata": {},
   "outputs": [],
   "source": [
    "HEADERS = ({'User-Agent':\n",
    "           'Mozilla/5.0 (X11; Linux x86_64)AppleWebKit/537.36 (KHTML, like Gecko)Chrome/44.0.2403.157 Safari/537.36',\n",
    "                           'Accept-Language': 'en-US, en;q=0.5'})\n",
    " \n",
    "webpage = requests.get(url, headers=HEADERS).text\n",
    "soup = BeautifulSoup(webpage, \"lxml\")"
   ]
  },
  {
   "cell_type": "code",
   "execution_count": 93,
   "id": "06424dec",
   "metadata": {},
   "outputs": [],
   "source": [
    "table  = soup.find('table', attrs={\"id\":\"productDetails_techSpec_section_1\"})"
   ]
  },
  {
   "cell_type": "code",
   "execution_count": 98,
   "id": "3f35a9b3",
   "metadata": {},
   "outputs": [
    {
     "name": "stdout",
     "output_type": "stream",
     "text": [
      "<table class=\"a-keyvalue prodDetTable\" id=\"productDetails_techSpec_section_1\" role=\"presentation\"> <tr> <th class=\"a-color-secondary a-size-base prodDetSectionEntry\"> Specialty </th> <td class=\"a-size-base prodDetAttrValue\">\n",
      "                ‎Vegan </td> </tr> <tr> <th class=\"a-color-secondary a-size-base prodDetSectionEntry\"> Ingredient Type </th> <td class=\"a-size-base prodDetAttrValue\">\n",
      "                ‎Scrumptious Perfection Guaranteed </td> </tr> <tr> <th class=\"a-color-secondary a-size-base prodDetSectionEntry\"> Brand </th> <td class=\"a-size-base prodDetAttrValue\">\n",
      "                ‎Rage Coffee </td> </tr> <tr> <th class=\"a-color-secondary a-size-base prodDetSectionEntry\"> Form </th> <td class=\"a-size-base prodDetAttrValue\">\n",
      "                ‎Ground </td> </tr> <tr> <th class=\"a-color-secondary a-size-base prodDetSectionEntry\"> Caffeine Content </th> <td class=\"a-size-base prodDetAttrValue\">\n",
      "                ‎Caffeinated </td> </tr> <tr> <th class=\"a-color-secondary a-size-base prodDetSectionEntry\"> Package Information </th> <td class=\"a-size-base prodDetAttrValue\">\n",
      "                ‎Bottle </td> </tr> <tr> <th class=\"a-color-secondary a-size-base prodDetSectionEntry\"> Manufacturer </th> <td class=\"a-size-base prodDetAttrValue\">\n",
      "                ‎Swmabhan Commerce Private Limited </td> </tr> <tr> <th class=\"a-color-secondary a-size-base prodDetSectionEntry\"> Item part number </th> <td class=\"a-size-base prodDetAttrValue\">\n",
      "                ‎RBDS20 </td> </tr> <tr> <th class=\"a-color-secondary a-size-base prodDetSectionEntry\"> Net Quantity </th> <td class=\"a-size-base prodDetAttrValue\">\n",
      "                ‎50.0 gram </td> </tr> <tr> <th class=\"a-color-secondary a-size-base prodDetSectionEntry\"> Package Dimensions </th> <td class=\"a-size-base prodDetAttrValue\">\n",
      "                ‎17.2 x 8.6 x 7.7 cm; 250 Grams </td> </tr> <tr> <th class=\"a-color-secondary a-size-base prodDetSectionEntry\"> Country of Origin </th> <td class=\"a-size-base prodDetAttrValue\">\n",
      "                ‎India </td> </tr> </table>\n"
     ]
    }
   ],
   "source": [
    "print(table)"
   ]
  },
  {
   "cell_type": "code",
   "execution_count": 123,
   "id": "5e8e53e9",
   "metadata": {},
   "outputs": [
    {
     "data": {
      "text/html": [
       "<div>\n",
       "<style scoped>\n",
       "    .dataframe tbody tr th:only-of-type {\n",
       "        vertical-align: middle;\n",
       "    }\n",
       "\n",
       "    .dataframe tbody tr th {\n",
       "        vertical-align: top;\n",
       "    }\n",
       "\n",
       "    .dataframe thead th {\n",
       "        text-align: right;\n",
       "    }\n",
       "</style>\n",
       "<table border=\"1\" class=\"dataframe\">\n",
       "  <thead>\n",
       "    <tr style=\"text-align: right;\">\n",
       "      <th></th>\n",
       "      <th>Ingredient Type</th>\n",
       "      <th>Package Information</th>\n",
       "      <th>Net Quantity</th>\n",
       "    </tr>\n",
       "  </thead>\n",
       "  <tbody>\n",
       "  </tbody>\n",
       "</table>\n",
       "</div>"
      ],
      "text/plain": [
       "Empty DataFrame\n",
       "Columns: [Ingredient Type, Package Information, Net Quantity]\n",
       "Index: []"
      ]
     },
     "execution_count": 123,
     "metadata": {},
     "output_type": "execute_result"
    }
   ],
   "source": [
    "head = table.find_all('th')\n",
    "data = table.find_all('td')\n",
    "\n",
    "df = pd.DataFrame(columns=['Ingredient Type','Package Information','Net Quantity'])\n",
    "\n",
    "for i,j in zip(head,data):\n",
    "    heading = i.text\n",
    "    col_data = j.text\n",
    "    if heading == \"Ingredient Type\":\n",
    "        df = df.append({\"Ingredient Type\":col_data}, ignore_index=true)\n",
    "   \n",
    "df.head()\n",
    "    "
   ]
  },
  {
   "cell_type": "code",
   "execution_count": 71,
   "id": "76b53d73",
   "metadata": {},
   "outputs": [
    {
     "name": "stdout",
     "output_type": "stream",
     "text": [
      "[' Specialty ', ' Ingredient Type ', ' Brand ', ' Form ', ' Caffeine Content ', ' Package Information ', ' Manufacturer ', ' Item part number ', ' Net Quantity ', ' Package Dimensions ', ' Country of Origin ']\n"
     ]
    }
   ],
   "source": [
    "\n",
    "        \n",
    "    \n",
    "        \n",
    "        \n"
   ]
  }
 ],
 "metadata": {
  "kernelspec": {
   "display_name": "Python 3 (ipykernel)",
   "language": "python",
   "name": "python3"
  },
  "language_info": {
   "codemirror_mode": {
    "name": "ipython",
    "version": 3
   },
   "file_extension": ".py",
   "mimetype": "text/x-python",
   "name": "python",
   "nbconvert_exporter": "python",
   "pygments_lexer": "ipython3",
   "version": "3.9.7"
  }
 },
 "nbformat": 4,
 "nbformat_minor": 5
}
